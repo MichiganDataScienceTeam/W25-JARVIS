{
 "cells": [
  {
   "cell_type": "markdown",
   "metadata": {},
   "source": [
    "### Week 8"
   ]
  },
  {
   "cell_type": "markdown",
   "metadata": {},
   "source": [
    "We will start this week by implementing function calling in Ollama. The following code is from the \"tools\" example in the ollama docs."
   ]
  },
  {
   "cell_type": "code",
   "execution_count": null,
   "metadata": {},
   "outputs": [],
   "source": [
    "from ollama import ChatResponse, chat\n",
    "\n",
    "def add_two_numbers(a: int, b: int) -> int:\n",
    "    \"\"\"\n",
    "    Add two numbers\n",
    "\n",
    "    Args:\n",
    "        a (int): The first number\n",
    "        b (int): The second number\n",
    "\n",
    "    Returns:\n",
    "        int: The sum of the two numbers\n",
    "    \"\"\"\n",
    "\n",
    "    # The cast is necessary as returned tool call arguments don't always conform exactly to schema\n",
    "    # E.g. this would prevent \"what is 30 + 12\" to produce '3012' instead of 42\n",
    "    return int(a) + int(b)\n",
    "\n",
    "\n",
    "def subtract_two_numbers(a: int, b: int) -> int:\n",
    "    \"\"\"\n",
    "    Subtract two numbers\n",
    "    \"\"\"\n",
    "\n",
    "    # The cast is necessary as returned tool call arguments don't always conform exactly to schema\n",
    "    return int(a) - int(b)\n",
    "\n",
    "\n",
    "# Tools can still be manually defined and passed into chat\n",
    "subtract_two_numbers_tool = {\n",
    "    'type': 'function',\n",
    "        'function': {\n",
    "        'name': 'subtract_two_numbers',\n",
    "        'description': 'Subtract two numbers',\n",
    "        'parameters': {\n",
    "                'type': 'object',\n",
    "                'required': ['a', 'b'],\n",
    "                'properties': {\n",
    "                'a': {'type': 'integer', 'description': 'The first number'},\n",
    "                'b': {'type': 'integer', 'description': 'The second number'},\n",
    "            },\n",
    "        },\n",
    "    },\n",
    "}\n",
    "\n",
    "messages = [{'role': 'user', 'content': 'What is three minues one?'}]\n",
    "print('Prompt:', messages[0]['content'])\n",
    "\n",
    "available_functions = {\n",
    "    'add_two_numbers': add_two_numbers,\n",
    "    'subtract_two_numbers': subtract_two_numbers,\n",
    "}\n",
    "\n",
    "response: ChatResponse = chat(\n",
    "    'llama3.2:latest',\n",
    "    messages=messages,\n",
    "    tools=[add_two_numbers, subtract_two_numbers_tool],\n",
    ")\n",
    "\n",
    "if response.message.tool_calls:\n",
    "    # There may be multiple tool calls in the response\n",
    "    for tool in response.message.tool_calls:\n",
    "        # Ensure the function is available, and then call it\n",
    "        if function_to_call := available_functions.get(tool.function.name):\n",
    "            print('Calling function:', tool.function.name)\n",
    "            print('Arguments:', tool.function.arguments)\n",
    "            output = function_to_call(**tool.function.arguments)\n",
    "            print('Function output:', output)\n",
    "        else:\n",
    "            print('Function', tool.function.name, 'not found')\n",
    "\n",
    "# Only needed to chat with the model using the tool call results\n",
    "if response.message.tool_calls:\n",
    "    # Add the function response to messages for the model to use\n",
    "    messages.append(response.message)\n",
    "    messages.append({'role': 'tool', 'content': str(output), 'name': tool.function.name})\n",
    "\n",
    "    # Get final response from model with function outputs\n",
    "    final_response = chat('llama3.2:latest', messages=messages)\n",
    "    print('Final response:', final_response.message.content)\n",
    "\n",
    "else:\n",
    "    print('No tool calls returned from model')"
   ]
  },
  {
   "cell_type": "markdown",
   "metadata": {},
   "source": [
    "Once you understand how the code works, try adding your own functions."
   ]
  },
  {
   "cell_type": "markdown",
   "metadata": {},
   "source": [
    " We can explore further applications that are related to possible features for JARVIS. The following is a basic example of a function we may add."
   ]
  },
  {
   "cell_type": "code",
   "execution_count": null,
   "metadata": {},
   "outputs": [],
   "source": [
    "import webbrowser\n",
    "\n",
    "# TODO: add the following function to the \"available_functions\" above. Complete any necessary steps to do so.\n",
    "\n",
    "def search_in_browser(query):\n",
    "    url = f\"https://www.google.com/search?q={query.replace(' ', '+')}\"\n",
    "    webbrowser.open(url, new=2)  # Opens the URL in default browser"
   ]
  },
  {
   "cell_type": "markdown",
   "metadata": {},
   "source": [
    "For more advanced functions, we can consider incorporating external APIs. Today, we will further explore the Google Gmail API.\n",
    "Follow the quickstart guide to get started: https://developers.google.com/workspace/gmail/api/quickstart/python"
   ]
  },
  {
   "cell_type": "code",
   "execution_count": null,
   "metadata": {},
   "outputs": [],
   "source": []
  }
 ],
 "metadata": {
  "kernelspec": {
   "display_name": "venv",
   "language": "python",
   "name": "python3"
  },
  "language_info": {
   "codemirror_mode": {
    "name": "ipython",
    "version": 3
   },
   "file_extension": ".py",
   "mimetype": "text/x-python",
   "name": "python",
   "nbconvert_exporter": "python",
   "pygments_lexer": "ipython3",
   "version": "3.12.2"
  }
 },
 "nbformat": 4,
 "nbformat_minor": 2
}
