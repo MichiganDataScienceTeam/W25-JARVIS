{
 "cells": [
  {
   "cell_type": "markdown",
   "metadata": {},
   "source": [
    "### Week 7"
   ]
  },
  {
   "cell_type": "markdown",
   "metadata": {},
   "source": [
    "This notebook guides you through building an offline voice assistant pipeline that:\n",
    "1. Records audio from your microphone\n",
    "2. Transcribes speech to text using Whisper\n",
    "3. Processes the text using Ollama\n",
    "4. Generates an aduio response using Kokoro"
   ]
  },
  {
   "cell_type": "markdown",
   "metadata": {},
   "source": [
    "First, we will process audio using the sounddevice library.\n",
    "\n",
    "Run the following in your terminal: ` pip install sounddevice numpy scipy `"
   ]
  },
  {
   "cell_type": "code",
   "execution_count": null,
   "metadata": {},
   "outputs": [],
   "source": [
    "import sounddevice as sd\n",
    "import numpy as np\n",
    "from scipy.io.wavfile import write\n",
    "def record_until_silence(threshold=0.01, silence_duration=1.0, sample_rate=44100):\n",
    "    print(\"Recording... Speak into the microphone.\")\n",
    "    recording = []\n",
    "    silence_counter = 0\n",
    "    \n",
    "    def callback(indata, frames, time, status):\n",
    "        nonlocal silence_counter\n",
    "        volume_norm = np.linalg.norm(indata) / np.sqrt(frames)\n",
    "        if volume_norm < threshold:\n",
    "            silence_counter += frames\n",
    "        else:\n",
    "            silence_counter = 0\n",
    "        recording.append(indata.copy())\n",
    "\n",
    "    with sd.InputStream(callback=callback, channels=1, samplerate=sample_rate):\n",
    "        while silence_counter < silence_duration * sample_rate:\n",
    "            sd.sleep(100)\n",
    "\n",
    "    audio_data = np.concatenate(recording)\n",
    "\n",
    "    # Save file as \"output.wav\"\n",
    "    write(\"output.wav\", sample_rate, audio_data)\n",
    "    print(\"Recording saved as 'output.wav'\")"
   ]
  },
  {
   "cell_type": "markdown",
   "metadata": {},
   "source": [
    "Next, we will install Whisper (https://github.com/openai/whisper/tree/main). This requires three steps:\n",
    "1. Install PyTorch using the command generated here: https://pytorch.org/\n",
    "2. In your terminal, run: ` pip install -U openai-whisper ` \n",
    "3. Install ffmpeg: (requires Chocolatey or Homebrew depending of OS)\n",
    "- Windows: ` choco install ffmpeg `\n",
    "- Mac: ` brew install ffmpeg `\n",
    "\n",
    "Once complete, visit the Whisper github for an initial implementation."
   ]
  },
  {
   "cell_type": "code",
   "execution_count": null,
   "metadata": {},
   "outputs": [],
   "source": [
    "import whisper\n",
    "\n",
    "def speech_to_text(path):\n",
    "    # TODO: complete implementation\n",
    "    pass"
   ]
  },
  {
   "cell_type": "markdown",
   "metadata": {},
   "source": [
    "We can now pass our input through an LLM. Revisit Week 4 to implement an LLM response using Ollama."
   ]
  },
  {
   "cell_type": "code",
   "execution_count": null,
   "metadata": {},
   "outputs": [],
   "source": [
    "import ollama\n",
    "\n",
    "def generate_text(input):\n",
    "    # TODO: complete implementation\n",
    "    pass"
   ]
  },
  {
   "cell_type": "markdown",
   "metadata": {},
   "source": [
    "Finally, implement our TTS using Kokoro (https://huggingface.co/hexgrad/Kokoro-82M):"
   ]
  },
  {
   "cell_type": "code",
   "execution_count": null,
   "metadata": {},
   "outputs": [],
   "source": [
    "# TODO: complete implementation\n",
    "def text_to_speech():\n",
    "    pass"
   ]
  },
  {
   "cell_type": "markdown",
   "metadata": {},
   "source": [
    "All the componenets of the pipeline are now complete! Try putting everything together below."
   ]
  },
  {
   "cell_type": "code",
   "execution_count": null,
   "metadata": {},
   "outputs": [],
   "source": [
    "# TODO: put everything together"
   ]
  }
 ],
 "metadata": {
  "kernelspec": {
   "display_name": "venv",
   "language": "python",
   "name": "python3"
  },
  "language_info": {
   "codemirror_mode": {
    "name": "ipython",
    "version": 3
   },
   "file_extension": ".py",
   "mimetype": "text/x-python",
   "name": "python",
   "nbconvert_exporter": "python",
   "pygments_lexer": "ipython3",
   "version": "3.12.2"
  }
 },
 "nbformat": 4,
 "nbformat_minor": 2
}
