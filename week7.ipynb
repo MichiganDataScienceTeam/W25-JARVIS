{
 "cells": [
  {
   "cell_type": "markdown",
   "metadata": {},
   "source": [
    "### Week 7"
   ]
  },
  {
   "cell_type": "markdown",
   "metadata": {},
   "source": [
    "This notebook guides you through building an offline voice assistant pipeline that:\n",
    "1. Records audio from your microphone\n",
    "2. Transcribes speech to text using Whisper\n",
    "3. Processes the text using Ollama\n",
    "4. Generates an aduio response using Kokoro"
   ]
  },
  {
   "cell_type": "markdown",
   "metadata": {},
   "source": [
    "First, we will process audio using the sounddevice library.\n",
    "\n",
    "Run the following in your terminal: ` pip install sounddevice numpy scipy `"
   ]
  },
  {
   "cell_type": "code",
   "execution_count": 2,
   "metadata": {},
   "outputs": [],
   "source": [
    "import sounddevice as sd\n",
    "import numpy as np\n",
    "from scipy.io.wavfile import write\n",
    "def record_until_silence(threshold=0.01, silence_duration=1.0, sample_rate=44100):\n",
    "    print(\"Recording... Speak into the microphone.\")\n",
    "    recording = []\n",
    "    silence_counter = 0\n",
    "    \n",
    "    def callback(indata, frames, time, status):\n",
    "        nonlocal silence_counter\n",
    "        volume_norm = np.linalg.norm(indata) / np.sqrt(frames)\n",
    "        if volume_norm < threshold:\n",
    "            silence_counter += frames\n",
    "        else:\n",
    "            silence_counter = 0\n",
    "        recording.append(indata.copy())\n",
    "\n",
    "    with sd.InputStream(callback=callback, channels=1, samplerate=sample_rate):\n",
    "        while silence_counter < silence_duration * sample_rate:\n",
    "            sd.sleep(100)\n",
    "\n",
    "    audio_data = np.concatenate(recording)\n",
    "\n",
    "    # Save file as \"output.wav\"\n",
    "    write(\"output.wav\", sample_rate, audio_data)\n",
    "    print(\"Recording saved as 'output.wav'\")"
   ]
  },
  {
   "cell_type": "markdown",
   "metadata": {},
   "source": [
    "Next, we will install Whisper (https://github.com/openai/whisper/tree/main). This requires three steps:\n",
    "1. Install PyTorch using the command generated here: https://pytorch.org/\n",
    "2. In your terminal, run: ` pip install -U openai-whisper ` \n",
    "3. Install ffmpeg: (requires Chocolatey or Homebrew depending of OS)\n",
    "- Windows: ` choco install ffmpeg `\n",
    "- Mac: ` brew install ffmpeg `\n",
    "\n",
    "Once complete, visit the Whisper github for an initial implementation."
   ]
  },
  {
   "cell_type": "code",
   "execution_count": null,
   "metadata": {},
   "outputs": [],
   "source": [
    "import whisper\n",
    "def speech_to_text(path): # path to audio (.mp3 or .wav)\n",
    "    model = whisper.load_model(\"./tiny.en.pt\")\n",
    "    options = whisper.DecodingOptions(fp16=False)\n",
    "    result = model.transcribe(path, **options.__dict__)\n",
    "    # result = model.transcribe(path)\n",
    "    return result[\"text\"]"
   ]
  },
  {
   "cell_type": "markdown",
   "metadata": {},
   "source": [
    "We can now pass our input through an LLM. Revisit Week 4 to implement an LLM response using Ollama."
   ]
  },
  {
   "cell_type": "code",
   "execution_count": null,
   "metadata": {},
   "outputs": [],
   "source": [
    "import ollama\n",
    "from ollama import Client\n",
    "def generate_text(input):\n",
    "    client = Client()\n",
    "    response = client.create(\n",
    "        model=\"jarvis:latest\",\n",
    "        from_=\"llama3.2:latest\",\n",
    "        system=\"Your name is Jarvis. You are a virutal assistant.\",\n",
    "        stream=False,\n",
    "    )\n",
    "\n",
    "    print(response.status)\n",
    "\n",
    "    res = ollama.chat(\n",
    "        model = \"jarvis:latest\",\n",
    "        messages = [\n",
    "            {\"role\": \"user\", \"content\": input}\n",
    "        ]\n",
    "    )\n",
    "\n",
    "    return res[\"message\"][\"content\"]"
   ]
  },
  {
   "cell_type": "markdown",
   "metadata": {},
   "source": [
    "Finally, implement our TTS using Kokoro (https://huggingface.co/hexgrad/Kokoro-82M):"
   ]
  },
  {
   "cell_type": "code",
   "execution_count": null,
   "metadata": {},
   "outputs": [],
   "source": [
    "# pip install -q \"kokoro>=0.9.2\" soundfile\n",
    "from kokoro import KPipeline\n",
    "from IPython.display import display, Audio\n",
    "import soundfile as sf\n",
    "import torch\n",
    "def text_to_speech(input):\n",
    "    pipeline = KPipeline(lang_code='a', model=\"kokoro_small\")\n",
    "    text = input\n",
    "    generator = pipeline(text, voice='af_heart')\n",
    "    for i, (gs, ps, audio) in enumerate(generator):\n",
    "        # current_tokens = len(ps.split())  # Phonemes correlate to token usage\n",
    "        # print(f\"Iteration {i}: {current_tokens} tokens\")\n",
    "        print(i, gs, ps)\n",
    "        display(Audio(data=audio, rate=24000, autoplay=i==0))\n",
    "        sf.write(f'{i}.wav', audio, 24000)\n",
    "\n",
    "        print(\"Playing recorded audio...\")\n",
    "        data, fs = sf.read(f'{i}.wav', dtype='float32')  # Load audio data\n",
    "        sd.play(data, fs)  # Play the audio file\n",
    "        # sd.wait()  # Wait until playback finishes\n",
    "        break"
   ]
  },
  {
   "cell_type": "markdown",
   "metadata": {},
   "source": [
    "All the componenets of the pipeline are now complete! Try putting everything together below."
   ]
  },
  {
   "cell_type": "code",
   "execution_count": null,
   "metadata": {},
   "outputs": [],
   "source": [
    "# TODO: put everything together\n",
    "record_until_silence()\n",
    "input = speech_to_text(\"./output.wav\")\n",
    "output = generate_text(input)\n",
    "text_to_speech(output)"
   ]
  }
 ],
 "metadata": {
  "kernelspec": {
   "display_name": "venv",
   "language": "python",
   "name": "python3"
  },
  "language_info": {
   "codemirror_mode": {
    "name": "ipython",
    "version": 3
   },
   "file_extension": ".py",
   "mimetype": "text/x-python",
   "name": "python",
   "nbconvert_exporter": "python",
   "pygments_lexer": "ipython3",
   "version": "3.12.2"
  }
 },
 "nbformat": 4,
 "nbformat_minor": 2
}
